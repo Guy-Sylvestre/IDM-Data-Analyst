{
 "cells": [
  {
   "cell_type": "markdown",
   "metadata": {},
   "source": [
    "<center>\n",
    "    <img src=\"https://gitlab.com/ibm/skills-network/courses/placeholder101/-/raw/master/labs/module%201/images/IDSNlogo.png\" width=\"300\" alt=\"cognitiveclass.ai logo\"  />\n",
    "</center>\n"
   ]
  },
  {
   "cell_type": "markdown",
   "metadata": {},
   "source": [
    "# **Web Scraping Lab**\n"
   ]
  },
  {
   "cell_type": "markdown",
   "metadata": {},
   "source": [
    "Estimated time needed: **30** minutes\n"
   ]
  },
  {
   "cell_type": "markdown",
   "metadata": {},
   "source": [
    "## Objectives\n"
   ]
  },
  {
   "cell_type": "markdown",
   "metadata": {},
   "source": [
    "After completing this lab you will be able to:\n"
   ]
  },
  {
   "cell_type": "markdown",
   "metadata": {},
   "source": [
    "-   Download a webpage using requests module\n",
    "-   Scrape all links from a web page\n",
    "-   Scrape all image urls from a web page\n",
    "-   Scrape data from html tables\n"
   ]
  },
  {
   "cell_type": "markdown",
   "metadata": {},
   "source": [
    "## Scrape [www.ibm.com](http://www.ibm.com?cm_mmc=Email_Newsletter-_-Developer_Ed%2BTech-_-WW_WW-_-SkillsNetwork-Courses-IBM-DA0321EN-SkillsNetwork-21426264&cm_mmca1=000026UJ&cm_mmca2=10006555&cm_mmca3=M12345678&cvosrc=email.Newsletter.M12345678&cvo_campaign=000026UJ&cm_mmc=Email_Newsletter-_-Developer_Ed%2BTech-_-WW_WW-_-SkillsNetwork-Courses-IBM-DA0321EN-SkillsNetwork-21426264&cm_mmca1=000026UJ&cm_mmca2=10006555&cm_mmca3=M12345678&cvosrc=email.Newsletter.M12345678&cvo_campaign=000026UJ)\n"
   ]
  },
  {
   "cell_type": "markdown",
   "metadata": {},
   "source": [
    "Import the required modules and functions\n"
   ]
  },
  {
   "cell_type": "code",
   "execution_count": 1,
   "metadata": {},
   "outputs": [],
   "source": [
    "from bs4 import BeautifulSoup # this module helps in web scrapping.\n",
    "import requests  # this module helps us to download a web page"
   ]
  },
  {
   "cell_type": "markdown",
   "metadata": {},
   "source": [
    "Download the contents of the web page\n"
   ]
  },
  {
   "cell_type": "code",
   "execution_count": 2,
   "metadata": {},
   "outputs": [],
   "source": [
    "url = \"http://www.ibm.com\""
   ]
  },
  {
   "cell_type": "code",
   "execution_count": 3,
   "metadata": {},
   "outputs": [],
   "source": [
    "# get the contents of the webpage in text format and store in a variable called data\n",
    "data  = requests.get(url).text "
   ]
  },
  {
   "cell_type": "markdown",
   "metadata": {},
   "source": [
    "Create a soup object using the class BeautifulSoup\n"
   ]
  },
  {
   "cell_type": "code",
   "execution_count": 4,
   "metadata": {},
   "outputs": [],
   "source": [
    "soup = BeautifulSoup(data,\"html5lib\")  # create a soup object using the variable 'data'"
   ]
  },
  {
   "cell_type": "markdown",
   "metadata": {},
   "source": [
    "Scrape all links\n"
   ]
  },
  {
   "cell_type": "code",
   "execution_count": 5,
   "metadata": {},
   "outputs": [
    {
     "name": "stdout",
     "output_type": "stream",
     "text": [
      "https://www.ibm.com/ci/fr\n",
      "https://www.ibm.com/sitemap/ci/fr\n",
      "/ci-fr/node/1706826\n",
      "https://1.www.s81c.com/common/images/ibm-leadspace-1200x627.jpg\n",
      "https://1.www.s81c.com/common/images/ibm-leadspace-1200x627.jpg\n",
      "https://www.ibm.com/services/adobe-services?lnk=mahpv18l1\n",
      "/taxonomy/term/85416\n",
      "/ci-fr/node/1706856\n",
      "https://fr.newsroom.ibm.com/announcements?item=123447\n",
      "/taxonomy/term/85416\n",
      "/ci-fr/node/1706851\n",
      "/ma-fr/node/1706831\n",
      "/ma-fr/node/1706836\n",
      "/ma-fr/node/1706841\n",
      "/ma-fr/node/1706846\n",
      "/taxonomy/term/85416\n",
      "/ci-fr/node/1706821\n",
      "/taxonomy/term/85416\n",
      "https://www.ibm.com/za-en/employment/\n",
      "/ci-fr/node/1706816\n",
      "https://www.ibm.com/products/offers-and-discounts\n",
      "/ma-fr/node/1706796\n",
      "/ma-fr/node/1706801\n",
      "/ma-fr/node/1706806\n",
      "/ma-fr/node/1706811\n",
      "/taxonomy/term/85416\n",
      "/ci-fr/node/1706866\n",
      "/ma-fr/node/1706861\n",
      "/taxonomy/term/85416\n",
      "/products\n",
      "https://www.ibm.com/services/adobe-services?lnk=mahpv18l1\n",
      "https://www.ibm.com/services/adobe-services?lnk=mahpv18l1\n",
      "https://fr.newsroom.ibm.com/announcements?item=123447\n",
      "https://fr.newsroom.ibm.com/announcements?item=123442%3Flnk%3Dfrhpv18f1%3Flnk%3Dmahpv18f1\n",
      "https://fr.newsroom.ibm.com/announcements?item=123446%3Flnk%3Dfrhpv18f2%3Flnk%3Dmahpv18f2\n",
      "https://fr.newsroom.ibm.com/announcements?item=123445%3Flnk%3Dfrhpv18f3%3Flnk%3Dmahpv18f3\n",
      "https://fr.newsroom.ibm.com/announcements?item=123438%3Flnk%3Dfrhpv18f4%3Flnk%3Dmahpv18f3\n",
      "https://www.ibm.com/search?lang=fr&amp;cc=ci&amp;q=\n",
      "/products\n",
      "/products\n",
      "//www.ibm.com/ci-fr/products/category/technology/analytics\n",
      "//www.ibm.com/ci-fr/products/category/technology/software-development\n",
      "//www.ibm.com/ci-fr/products/category/technology/security\n",
      "//www.ibm.com/ci-fr/products/category/technology/blockchain\n",
      "//www.ibm.com/ci-fr/products/category/technology/IT-management\n",
      "//www.ibm.com/ci-fr/products/category/technology/mobile-technology\n",
      "//www.ibm.com/ci-fr/products/category/technology/cloud-computing\n",
      "//www.ibm.com/ci-fr/products/category/technology/cognitive-computing-and-AI\n",
      "//www.ibm.com/ci-fr/products/category/technology/IT-infrastructure\n",
      "//www.ibm.com/ci-fr/products/category/technology/analytics\n",
      "//www.ibm.com/ci-fr/products/category/technology/software-development\n",
      "//www.ibm.com/ci-fr/products/category/technology/security\n",
      "//www.ibm.com/ci-fr/products/category/technology/blockchain\n",
      "//www.ibm.com/ci-fr/products/category/technology/IT-management\n",
      "//www.ibm.com/ci-fr/products/category/technology/mobile-technology\n",
      "//www.ibm.com/ci-fr/products/category/technology/cloud-computing\n",
      "//www.ibm.com/ci-fr/products/category/technology/cognitive-computing-and-AI\n",
      "//www.ibm.com/ci-fr/products/category/technology/IT-infrastructure\n",
      "//www.ibm.com/ci-fr/products/category/business/collaboration\n",
      "//www.ibm.com/ci-fr/products/category/business/content-management\n",
      "//www.ibm.com/ci-fr/products/category/business/human-resources\n",
      "//www.ibm.com/ci-fr/products/category/business/commerce\n",
      "//www.ibm.com/ci-fr/products/category/business/marketing\n",
      "//www.ibm.com/ci-fr/products/category/business/supply-chain-management\n",
      "//www.ibm.com/ci-fr/products/category/business/finance\n",
      "//www.ibm.com/ci-fr/products/category/business/business-operations\n",
      "//www.ibm.com/ci-fr/products/category/business/customer-service-and-CRM\n",
      "https://www.ibm.com/fr-fr/products/cloud-pak-for-data\n",
      "https://www.ibm.com/fr-fr/products/cloud-pak-for-data\n",
      "https://www.ibm.com/fr-fr/products/cloud-pak-for-data\n",
      "##\n",
      "https://www.ibm.com/fr-fr/products/cloud-pak-for-data\n",
      "https://www.ibm.com/fr-fr/products/cloud-pak-for-data\n",
      "##\n",
      "https://www.ibm.com/fr-fr/products/cloud-pak-for-data\n",
      "https://www.ibm.com/fr-fr/products/cloud-pak-for-data\n",
      "https://www.ibm.com/fr-fr/products/cloud-pak-for-data\n",
      "https://www.ibm.com/products/offers-and-discounts\n",
      "https://www.ibm.com/cloud/pricing?lnk=STW_US_HPT_T1_TL&lnk2=trial_Cloud&psrc=none&pexp=def\n",
      "https://www.ibm.com/products/cognos-analytics?lnk=STW_US_HPT_T2_TL&lnk2=trial_CogAnalytics&psrc=none&pexp=def\n",
      "/products/planning-analytics?lnk=ushpv18t3\n",
      "/cloud/watson-assistant?%3Flnk=ushpv18t4\n",
      "https://www.ibm.com/za-en/employment/\n",
      "https://www.ibm.com/za-en/employment/\n",
      "#\n"
     ]
    }
   ],
   "source": [
    "for link in soup.find_all('a'):  # in html anchor/link is represented by the tag <a>\n",
    "    print(link.get('href'))"
   ]
  },
  {
   "cell_type": "markdown",
   "metadata": {},
   "source": [
    "Scrape  all images\n"
   ]
  },
  {
   "cell_type": "code",
   "execution_count": 6,
   "metadata": {},
   "outputs": [
    {
     "name": "stdout",
     "output_type": "stream",
     "text": [
      "https://1.www.s81c.com/common/images/ibm-leadspace-1200x627.jpg\n",
      "https://1.dam.s81c.com/public/content/dam/worldwide-content/homepage/ul/g/18/1e/CP%20gaz%20a%20effet%20de%20serre%202_HP_17_Feb.jpeg\n",
      "https://1.dam.s81c.com/public/content/dam/worldwide-content/homepage/ul/g/1c/a6/Siemens_MindSphere2.jpeg\n",
      "https://1.dam.s81c.com/public/content/dam/worldwide-content/homepage/ul/g/0b/c6/cybersecurityV2.jpeg\n",
      "https://1.dam.s81c.com/public/content/dam/worldwide-content/other/ul/g/d4/2b/d42ba115-f80d-43a1-a53e88731e6dfc25.jpg\n",
      "https://1.dam.s81c.com/m/3982f922a864ad3f/original/cloud-pak-for-data-444x320.jpg\n",
      "https://1.dam.s81c.com/m/3982f922a864ad3f/original/cloud-pak-for-data-444x320.jpg\n",
      "https://1.dam.s81c.com/m/35112bddcce471e7/original/Cloud-Pak-for-Data.png\n",
      "https://1.dam.s81c.com/m/312749fc346815ed/original/Cognos-Analytics-434x259.png\n",
      "https://1.dam.s81c.com/m/30cc47a02cd1a73d/original/Planning-Analytics-22201-700x420.png\n",
      "https://1.dam.s81c.com/m/38fbda4d55e7af4e/original/Watson-Assistant-23212-700x420.png\n"
     ]
    }
   ],
   "source": [
    "for link in soup.find_all('img'):# in html image is represented by the tag <img>\n",
    "    print(link.get('src'))"
   ]
  },
  {
   "cell_type": "markdown",
   "metadata": {},
   "source": [
    "## Scrape data from html tables\n"
   ]
  },
  {
   "cell_type": "code",
   "execution_count": 7,
   "metadata": {},
   "outputs": [],
   "source": [
    "#The from bs4 import BeautifulSoup # this module helps in web scrapping.\n",
    "import requests  # this module helps us to download a web page"
   ]
  },
  {
   "cell_type": "code",
   "execution_count": 8,
   "metadata": {},
   "outputs": [],
   "source": [
    "url = \"https://cf-courses-data.s3.us.cloud-object-storage.appdomain.cloud/IBM-DA0321EN-SkillsNetwork/labs/datasets/HTMLColorCodes.html\""
   ]
  },
  {
   "cell_type": "markdown",
   "metadata": {},
   "source": [
    "Before proceeding to scrape a web site, you need to examine the contents, and the way data is organized on the website. Open the above url in your browser and check how many rows and columns are there in the color table.\n"
   ]
  },
  {
   "cell_type": "code",
   "execution_count": 9,
   "metadata": {},
   "outputs": [],
   "source": [
    "# get the contents of the webpage in text format and store in a variable called data\n",
    "data  = requests.get(url).text"
   ]
  },
  {
   "cell_type": "code",
   "execution_count": 10,
   "metadata": {},
   "outputs": [],
   "source": [
    "soup = BeautifulSoup(data,\"html5lib\")"
   ]
  },
  {
   "cell_type": "code",
   "execution_count": 11,
   "metadata": {},
   "outputs": [],
   "source": [
    "#find a html table in the web page\n",
    "table = soup.find('table') # in html table is represented by the tag <table>"
   ]
  },
  {
   "cell_type": "code",
   "execution_count": 12,
   "metadata": {},
   "outputs": [
    {
     "name": "stdout",
     "output_type": "stream",
     "text": [
      "Color Name--->Hex Code#RRGGBB\n",
      "lightsalmon--->#FFA07A\n",
      "salmon--->#FA8072\n",
      "darksalmon--->#E9967A\n",
      "lightcoral--->#F08080\n",
      "coral--->#FF7F50\n",
      "tomato--->#FF6347\n",
      "orangered--->#FF4500\n",
      "gold--->#FFD700\n",
      "orange--->#FFA500\n",
      "darkorange--->#FF8C00\n",
      "lightyellow--->#FFFFE0\n",
      "lemonchiffon--->#FFFACD\n",
      "papayawhip--->#FFEFD5\n",
      "moccasin--->#FFE4B5\n",
      "peachpuff--->#FFDAB9\n",
      "palegoldenrod--->#EEE8AA\n",
      "khaki--->#F0E68C\n",
      "darkkhaki--->#BDB76B\n",
      "yellow--->#FFFF00\n",
      "lawngreen--->#7CFC00\n",
      "chartreuse--->#7FFF00\n",
      "limegreen--->#32CD32\n",
      "lime--->#00FF00\n",
      "forestgreen--->#228B22\n",
      "green--->#008000\n",
      "powderblue--->#B0E0E6\n",
      "lightblue--->#ADD8E6\n",
      "lightskyblue--->#87CEFA\n",
      "skyblue--->#87CEEB\n",
      "deepskyblue--->#00BFFF\n",
      "lightsteelblue--->#B0C4DE\n",
      "dodgerblue--->#1E90FF\n"
     ]
    }
   ],
   "source": [
    "#Get all rows from the table\n",
    "for row in table.find_all('tr'): # in html table row is represented by the tag <tr>\n",
    "    # Get all columns in each row.\n",
    "    cols = row.find_all('td') # in html a column is represented by the tag <td>\n",
    "    color_name = cols[2].getText() # store the value in column 3 as color_name\n",
    "    color_code = cols[3].getText() # store the value in column 4 as color_code\n",
    "    print(\"{}--->{}\".format(color_name,color_code))"
   ]
  },
  {
   "cell_type": "markdown",
   "metadata": {},
   "source": [
    "## Authors\n"
   ]
  },
  {
   "cell_type": "markdown",
   "metadata": {},
   "source": [
    "Ramesh Sannareddy\n"
   ]
  },
  {
   "cell_type": "markdown",
   "metadata": {},
   "source": [
    "### Other Contributors\n"
   ]
  },
  {
   "cell_type": "markdown",
   "metadata": {},
   "source": [
    "Rav Ahuja\n"
   ]
  },
  {
   "cell_type": "markdown",
   "metadata": {},
   "source": [
    "## Change Log\n"
   ]
  },
  {
   "cell_type": "markdown",
   "metadata": {},
   "source": [
    "| Date (YYYY-MM-DD) | Version | Changed By        | Change Description                 |\n",
    "| ----------------- | ------- | ----------------- | ---------------------------------- |\n",
    "| 2020-10-17        | 0.1     | Ramesh Sannareddy | Created initial version of the lab |\n"
   ]
  },
  {
   "cell_type": "markdown",
   "metadata": {},
   "source": [
    " Copyright © 2020 IBM Corporation. This notebook and its source code are released under the terms of the [MIT License](https://cognitiveclass.ai/mit-license?cm_mmc=Email_Newsletter-_-Developer_Ed%2BTech-_-WW_WW-_-SkillsNetwork-Courses-IBM-DA0321EN-SkillsNetwork-21426264&cm_mmca1=000026UJ&cm_mmca2=10006555&cm_mmca3=M12345678&cvosrc=email.Newsletter.M12345678&cvo_campaign=000026UJ&cm_mmc=Email_Newsletter-_-Developer_Ed%2BTech-_-WW_WW-_-SkillsNetwork-Courses-IBM-DA0321EN-SkillsNetwork-21426264&cm_mmca1=000026UJ&cm_mmca2=10006555&cm_mmca3=M12345678&cvosrc=email.Newsletter.M12345678&cvo_campaign=000026UJ&cm_mmc=Email_Newsletter-_-Developer_Ed%2BTech-_-WW_WW-_-SkillsNetwork-Courses-IBM-DA0321EN-SkillsNetwork-21426264&cm_mmca1=000026UJ&cm_mmca2=10006555&cm_mmca3=M12345678&cvosrc=email.Newsletter.M12345678&cvo_campaign=000026UJ&cm_mmc=Email_Newsletter-_-Developer_Ed%2BTech-_-WW_WW-_-SkillsNetwork-Courses-IBM-DA0321EN-SkillsNetwork-21426264&cm_mmca1=000026UJ&cm_mmca2=10006555&cm_mmca3=M12345678&cvosrc=email.Newsletter.M12345678&cvo_campaign=000026UJ).\n"
   ]
  }
 ],
 "metadata": {
  "kernelspec": {
   "display_name": "Python 3",
   "language": "python",
   "name": "python3"
  },
  "language_info": {
   "codemirror_mode": {
    "name": "ipython",
    "version": 3
   },
   "file_extension": ".py",
   "mimetype": "text/x-python",
   "name": "python",
   "nbconvert_exporter": "python",
   "pygments_lexer": "ipython3",
   "version": "3.8.5"
  }
 },
 "nbformat": 4,
 "nbformat_minor": 4
}
